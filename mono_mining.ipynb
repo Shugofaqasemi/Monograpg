{
 "cells": [
  {
   "cell_type": "code",
   "execution_count": 41,
   "id": "c125bbe6",
   "metadata": {},
   "outputs": [],
   "source": [
    "import csv\n",
    "import pandas as pd\n",
    "import re\n",
    "\n",
    "import seaborn as sns\n",
    "import warnings\n",
    "warnings.filterwarnings('ignore')"
   ]
  },
  {
   "cell_type": "code",
   "execution_count": 42,
   "id": "db03c56d",
   "metadata": {},
   "outputs": [],
   "source": [
    "df = pd.read_csv('persian.csv')"
   ]
  },
  {
   "cell_type": "code",
   "execution_count": 43,
   "id": "8c3f4718",
   "metadata": {},
   "outputs": [
    {
     "data": {
      "text/html": [
       "<div>\n",
       "<style scoped>\n",
       "    .dataframe tbody tr th:only-of-type {\n",
       "        vertical-align: middle;\n",
       "    }\n",
       "\n",
       "    .dataframe tbody tr th {\n",
       "        vertical-align: top;\n",
       "    }\n",
       "\n",
       "    .dataframe thead th {\n",
       "        text-align: right;\n",
       "    }\n",
       "</style>\n",
       "<table border=\"1\" class=\"dataframe\">\n",
       "  <thead>\n",
       "    <tr style=\"text-align: right;\">\n",
       "      <th></th>\n",
       "      <th>persian text nalysis</th>\n",
       "      <th>polarity</th>\n",
       "    </tr>\n",
       "  </thead>\n",
       "  <tbody>\n",
       "    <tr>\n",
       "      <th>0</th>\n",
       "      <td>بانک مرکزی افغانستان وعده داد که قیمت دالر در ...</td>\n",
       "      <td>1.0</td>\n",
       "    </tr>\n",
       "    <tr>\n",
       "      <th>1</th>\n",
       "      <td>بحران اقتصادی افغانستان؛ برنامه جهانی غذا بودج...</td>\n",
       "      <td>-1.0</td>\n",
       "    </tr>\n",
       "    <tr>\n",
       "      <th>2</th>\n",
       "      <td>امیرخان متقی، سرپرست وزارت خارجه با طارق علی ب...</td>\n",
       "      <td>1.0</td>\n",
       "    </tr>\n",
       "    <tr>\n",
       "      <th>3</th>\n",
       "      <td>وزارت خارجه در یک رشته تویت نگاشته است که آقای...</td>\n",
       "      <td>1.0</td>\n",
       "    </tr>\n",
       "    <tr>\n",
       "      <th>4</th>\n",
       "      <td>شماری از قالین بافان و بازرگانان قالین در کشور...</td>\n",
       "      <td>-1.0</td>\n",
       "    </tr>\n",
       "  </tbody>\n",
       "</table>\n",
       "</div>"
      ],
      "text/plain": [
       "                                persian text nalysis  polarity\n",
       "0  بانک مرکزی افغانستان وعده داد که قیمت دالر در ...       1.0\n",
       "1  بحران اقتصادی افغانستان؛ برنامه جهانی غذا بودج...      -1.0\n",
       "2  امیرخان متقی، سرپرست وزارت خارجه با طارق علی ب...       1.0\n",
       "3  وزارت خارجه در یک رشته تویت نگاشته است که آقای...       1.0\n",
       "4  شماری از قالین بافان و بازرگانان قالین در کشور...      -1.0"
      ]
     },
     "execution_count": 43,
     "metadata": {},
     "output_type": "execute_result"
    }
   ],
   "source": [
    "df.head(5)"
   ]
  },
  {
   "cell_type": "code",
   "execution_count": 44,
   "id": "816cc495",
   "metadata": {},
   "outputs": [
    {
     "data": {
      "text/plain": [
       "Index(['persian text nalysis', 'polarity'], dtype='object')"
      ]
     },
     "execution_count": 44,
     "metadata": {},
     "output_type": "execute_result"
    }
   ],
   "source": [
    "df.columns"
   ]
  },
  {
   "cell_type": "code",
   "execution_count": 45,
   "id": "6c184203",
   "metadata": {},
   "outputs": [],
   "source": [
    "df.columns = [\"text\", \"sentiment\"]"
   ]
  },
  {
   "cell_type": "code",
   "execution_count": 46,
   "id": "d9ae76f9",
   "metadata": {},
   "outputs": [],
   "source": [
    "def clean_text(str_arg):\n",
    "    \n",
    "    text=re.sub('\\W',' ',str_arg,flags=re.IGNORECASE) \n",
    "    text=re.sub('(\\s+)',' ',text)\n",
    "    #text=text.lower()\n",
    "    #text= re.sub(r'@[A-Za-z0-9]+', '', text)#remove @mention\n",
    "    return text"
   ]
  },
  {
   "cell_type": "code",
   "execution_count": 47,
   "id": "7470a838",
   "metadata": {},
   "outputs": [
    {
     "name": "stdout",
     "output_type": "stream",
     "text": [
      "                                                text  sentiment\n",
      "0  بانک مرکزی افغانستان وعده داد که قیمت دالر در ...        1.0\n",
      "1  بحران اقتصادی افغانستان؛ برنامه جهانی غذا بودج...       -1.0\n",
      "2  امیرخان متقی، سرپرست وزارت خارجه با طارق علی ب...        1.0\n",
      "3  وزارت خارجه در یک رشته تویت نگاشته است که آقای...        1.0\n"
     ]
    }
   ],
   "source": [
    "df.dropna(subset = ['text', 'sentiment'], inplace=True)\n",
    "print(df.head(4))"
   ]
  },
  {
   "cell_type": "code",
   "execution_count": null,
   "id": "b6a30a18",
   "metadata": {},
   "outputs": [],
   "source": []
  },
  {
   "cell_type": "code",
   "execution_count": 48,
   "id": "0b758723",
   "metadata": {},
   "outputs": [],
   "source": [
    "x = df.iloc[:, 0]\n",
    "x = [clean_text(x) for x in x]"
   ]
  },
  {
   "cell_type": "code",
   "execution_count": 49,
   "id": "04e993ef",
   "metadata": {},
   "outputs": [],
   "source": [
    "y = df.iloc[:, 1]"
   ]
  },
  {
   "cell_type": "code",
   "execution_count": 50,
   "id": "293be41c",
   "metadata": {},
   "outputs": [
    {
     "data": {
      "text/plain": [
       "<AxesSubplot:xlabel='text'>"
      ]
     },
     "execution_count": 50,
     "metadata": {},
     "output_type": "execute_result"
    },
    {
     "data": {
      "image/png": "[encoded data removed]",
      "text/plain": [
       "<Figure size 432x288 with 1 Axes>"
      ]
     },
     "metadata": {
      "needs_background": "light"
     },
     "output_type": "display_data"
    }
   ],
   "source": [
    "classes = df.groupby(['sentiment'], as_index = False).count()\n",
    "classes['sentiment']\n",
    "sns.barplot(x=classes['text'],y=['Negative','Neutral','Positive'],data=classes['text'])"
   ]
  }
 ],
 "metadata": {
  "kernelspec": {
   "display_name": "Python 3 (ipykernel)",
   "language": "python",
   "name": "python3"
  },
  "language_info": {
   "codemirror_mode": {
    "name": "ipython",
    "version": 3
   },
   "file_extension": ".py",
   "mimetype": "text/x-python",
   "name": "python",
   "nbconvert_exporter": "python",
   "pygments_lexer": "ipython3",
   "version": "3.9.7"
  }
 },
 "nbformat": 4,
 "nbformat_minor": 5
}
